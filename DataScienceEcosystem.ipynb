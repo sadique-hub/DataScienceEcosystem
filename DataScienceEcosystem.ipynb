{
 "cells": [
  {
   "cell_type": "markdown",
   "id": "f52ca33c-cae3-4bd8-ad29-0cfd4ece6289",
   "metadata": {},
   "source": [
    "# Data Science Tools and Ecosystem"
   ]
  },
  {
   "cell_type": "markdown",
   "id": "3a2e0026-9a1f-48ff-b108-419abaec6a31",
   "metadata": {},
   "source": [
    "In this notebook, Data Science Tools and ecosystem are summarized."
   ]
  },
  {
   "cell_type": "markdown",
   "id": "4d90b952-1656-4647-8fd4-de8ae7e04eb3",
   "metadata": {},
   "source": [
    "Some of the popular languages that Data Scientist use are:\n",
    "1. Python\n",
    "2. R programming language\n",
    "3. C++\n",
    "    "
   ]
  },
  {
   "cell_type": "markdown",
   "id": "97612f86-ce2d-4b11-90a4-093b9879fb6b",
   "metadata": {},
   "source": [
    "Some of the commonly used libraries that Data Scientists use:\n",
    "1. Pandas\n",
    "2. NumPy\n",
    "3. Matplotlib"
   ]
  },
  {
   "cell_type": "markdown",
   "id": "88655290-f176-4374-a462-008a879708c3",
   "metadata": {},
   "source": [
    "| Data Science Tools |\n",
    "|--------------------|\n",
    "| Git |\n",
    "|-----|\n",
    "| Apache NetBeans|\n",
    "|----------------|\n",
    "| Apache Subversion|"
   ]
  },
  {
   "cell_type": "markdown",
   "id": "a1084107-5bf9-4bc8-8c4a-83bed8462cee",
   "metadata": {},
   "source": [
    "### Below are a few examples of evaluating arithmetic expression in Python"
   ]
  },
  {
   "cell_type": "code",
   "execution_count": 3,
   "id": "1abdd9d7-972d-4f23-b681-f1d323bd1526",
   "metadata": {},
   "outputs": [
    {
     "data": {
      "text/plain": [
       "17"
      ]
     },
     "execution_count": 3,
     "metadata": {},
     "output_type": "execute_result"
    }
   ],
   "source": [
    "(3*4)+5\n",
    "This is a simple arithmetic expression to multiply then add integers\n"
   ]
  },
  {
   "cell_type": "code",
   "execution_count": 4,
   "id": "43820708-f879-47d3-b383-13a29506d1fa",
   "metadata": {},
   "outputs": [
    {
     "data": {
      "text/plain": [
       "3.3333333333333335"
      ]
     },
     "execution_count": 4,
     "metadata": {},
     "output_type": "execute_result"
    }
   ],
   "source": [
    "(200/60)\n",
    "This convert 200 minutes to hours by dividing by 60."
   ]
  },
  {
   "cell_type": "markdown",
   "id": "33ca7180-3591-43cb-bcfc-3bbed62e5f9c",
   "metadata": {},
   "source": [
    "OBJECTIVES:\n",
    "* List popular languages by Data Scientists\n",
    "* Some of the commonly used libraries used by Data Scientists\n",
    "* Evaluating arithmetic expression in Python"
   ]
  },
  {
   "cell_type": "markdown",
   "id": "ae09631f-caa3-44e9-a0aa-b4f9668d77b9",
   "metadata": {},
   "source": [
    "## Author\n",
    "Mohammed Sadique Hussain"
   ]
  },
  {
   "cell_type": "code",
   "execution_count": null,
   "id": "58fc65d8-208e-4c57-ba9d-afbba5c3a8bb",
   "metadata": {},
   "outputs": [],
   "source": []
  }
 ],
 "metadata": {
  "kernelspec": {
   "display_name": "Python",
   "language": "python",
   "name": "conda-env-python-py"
  },
  "language_info": {
   "codemirror_mode": {
    "name": "ipython",
    "version": 3
   },
   "file_extension": ".py",
   "mimetype": "text/x-python",
   "name": "python",
   "nbconvert_exporter": "python",
   "pygments_lexer": "ipython3",
   "version": "3.7.12"
  }
 },
 "nbformat": 4,
 "nbformat_minor": 5
}
